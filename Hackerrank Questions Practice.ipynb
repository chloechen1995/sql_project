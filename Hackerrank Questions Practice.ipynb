{
 "cells": [
  {
   "cell_type": "markdown",
   "metadata": {},
   "source": [
    "Query an alphabetially ordered list of all names in OCCUPATIONS, immediately followed by the first letter of each profession as a parenthetical (For example: AnActorName(A))\n",
    "\n",
    "##### SELECT CONCAT(Name, '(', LEFT(Occupation, 1), ')') FROM OCCUPATIONS ORDER BY Name;"
   ]
  },
  {
   "cell_type": "markdown",
   "metadata": {},
   "source": [
    "Query the number of occurrences of each occupation in OCCUPATIONS. Sort the occurrences in ascending Order, and output them in the following format: There are a total of [occupation_count] [occupation]s.\n",
    "\n",
    "##### SELECT CONCAT('There are a total of ', COUNT(Occupation), ' ', LOWER(Occupation), 's.') FROM OCCUPATIONS GROUP BY Occupation ORDER BY COUNT(Occupation), Occupation;"
   ]
  },
  {
   "cell_type": "markdown",
   "metadata": {},
   "source": [
    "Samantha was tasked with calculating the average monthly salaries for all employees in the EMPLOYEES table, but did not realize her keyboard's  key was broken until after completing the calculation. She wants your help finding the difference between her miscalculation (using salaries with any zeroes removed), and the actual average salary.\n",
    "\n",
    "Write a query calculating the amount of error (i.e.:  average monthly salaries), and round it up to the next integer.\n",
    "\n",
    "##### SELECT CEIL(AVG(SALARY) - AVG(REPLACE(SALARY, '0', ''))) FROM EMPLOYEES;"
   ]
  },
  {
   "cell_type": "markdown",
   "metadata": {},
   "source": [
    "We define an employee's total earnings to be their monthly salary x months worked, and the maximum total earnings to be the maximum total earnings for any employee in the Employee table. Write a query to find the maximum total earnings for all employees as well as the total number of employees who have maximum total earnings. Then print these values as space-separated integers.\n",
    "\n",
    "##### SELECT (salary * months) as earnings, COUNT(name) FROM Employee GROUP BY earnings ORDER BY earnings DESC LIMIT 1;"
   ]
  },
  {
   "cell_type": "markdown",
   "metadata": {},
   "source": [
    "Query the Western Longitude (LONG_W) for the largest Northern Latitude (LAT_N) in STATION that is less than . Round your answer to  decimal places.\n",
    "\n",
    "##### SELECT ROUND(LONG_W, 4) FROM STATION WHERE LAT_N = (SELECT MAX(LAT_N) FROM STATION WHERE LAT_N < 137.2345);"
   ]
  },
  {
   "cell_type": "markdown",
   "metadata": {},
   "source": [
    "Given the CITY and COUNTRY tables, query the names of all the continents (COUNTRY.Continent) and their respective average city populations (CITY.Population) rounded down to the nearest integer.\n",
    "\n",
    "##### SELECT COUNTRY.Continent, FLOOR(AVG(CITY.POPULATION)) AS AVG_POP FROM CITY INNER JOIN COUNTRY ON CITY.COUNTRYCODE = COUNTRY.CODE GROUP BY COUNTRY.Continent ORDER BY AVG_POP;"
   ]
  },
  {
   "cell_type": "markdown",
   "metadata": {},
   "source": [
    "Ketty gives Eve a task to generate a report containing three columns: Name, Grade and Mark. Ketty doesn't want the NAMES of those students who received a grade lower than 8. The report must be in descending order by grade -- i.e. higher grades are entered first. If there is more than one student with the same grade (8-10) assigned to them, order those particular students by their name alphabetically. Finally, if the grade is lower than 8, use \"NULL\" as their name and list them by their grades in descending order. If there is more than one student with the same grade (1-7) assigned to them, order those particular students by their marks in ascending order.\n",
    "\n",
    "Write a query to help Eve.\n",
    "\n",
    "##### SELECT CASE WHEN gt.Grade < 8 THEN NULL ELSE gt.name END, gt.Grade, gt.Marks FROM (SELECT s.Name, s.Marks, g.Grade FROM Students AS s, Grades as g WHERE s.Marks BETWEEN g.Min_Mark AND g.Max_Mark) AS gt ORDER BY gt.Grade DESC, gt.name ASC;"
   ]
  },
  {
   "cell_type": "markdown",
   "metadata": {},
   "source": [
    "Harry Potter and his friends are at Ollivander's with Ron, finally replacing Charlie's old broken wand.\n",
    "\n",
    "Hermione decides the best way to choose is by determining the minimum number of gold galleons needed to buy each non-evil wand of high power and age. Write a query to print the id, age, coins_needed, and power of the wands that Ron's interested in, sorted in order of descending power. If more than one wand has same power, sort the result in order of descending age.\n",
    "\n",
    "##### SELECT W.id, MAC.min_age, W.coins_needed, W.power FROM Wands W INNER JOIN (SELECT W.code, W.power, MIN(WP.age) AS min_age, MIN(W.coins_needed) AS min_price FROM wands AS W INNER JOIN wands_property AS WP ON W.code = WP.code where WP.is_evil = 0 GROUP BY W.code, W.power) MAC ON W.code = MAC.code AND W.power = MAC.power AND W.coins_needed = MAC.min_price ORDER BY W.power DESC, MAC.min_age DESC;"
   ]
  },
  {
   "cell_type": "markdown",
   "metadata": {},
   "source": [
    "The total score of a hacker is the sum of their maximum scores for all of the challenges. Write a query to print the hacker_id, name, and total score of the hackers ordered by the descending score. If more than one hacker achieved the same total score, then sort the result by ascending hacker_id. Exclude all hackers with a total score of  from your result.\n",
    "\n",
    "##### SELECT H.hacker_id, H.name, SUM(score) AS total_score FROM Hackers H INNER JOIN (SELECT hacker_id, MAX(S.score) AS score FROM Submissions AS S GROUP BY hacker_id) AS MAX_T ON H.hacker_id = MAX_T.hacker_id GROUP BY H.hacker_id, H.name HAVING total_score > 0 ORDER BY total_score DESC, hacker_id DESC;"
   ]
  },
  {
   "cell_type": "markdown",
   "metadata": {},
   "source": [
    "You are given three tables: Students, Friends and Packages. Students contains two columns: ID and Name. Friends contains two columns: ID and Friend_ID (ID of the ONLY best friend). Packages contains two columns: ID and Salary (offered salary in $ thousands per month).\n",
    "\n",
    "##### SELECT Name FROM (Students AS S INNER JOIN Friends F ON S.ID = F.ID INNER JOIN Packages P1 ON S.ID = P1.ID INNER JOIN Packages P2 ON F.Friend_ID = P2.ID) WHERE P2.Salary > P1.Salary ORDER BY P2.Salary;"
   ]
  }
 ],
 "metadata": {
  "kernelspec": {
   "display_name": "Python 3",
   "language": "python",
   "name": "python3"
  },
  "language_info": {
   "codemirror_mode": {
    "name": "ipython",
    "version": 3
   },
   "file_extension": ".py",
   "mimetype": "text/x-python",
   "name": "python",
   "nbconvert_exporter": "python",
   "pygments_lexer": "ipython3",
   "version": "3.6.5"
  }
 },
 "nbformat": 4,
 "nbformat_minor": 2
}
